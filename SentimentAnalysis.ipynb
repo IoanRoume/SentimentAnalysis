{
  "nbformat": 4,
  "nbformat_minor": 0,
  "metadata": {
    "colab": {
      "provenance": [],
      "gpuType": "T4",
      "toc_visible": true,
      "authorship_tag": "ABX9TyNodYt4By2wtAO1QR4cCBUy",
      "include_colab_link": true
    },
    "kernelspec": {
      "name": "python3",
      "display_name": "Python 3"
    },
    "language_info": {
      "name": "python"
    },
    "accelerator": "GPU"
  },
  "cells": [
    {
      "cell_type": "markdown",
      "metadata": {
        "id": "view-in-github",
        "colab_type": "text"
      },
      "source": [
        "<a href=\"https://colab.research.google.com/github/IoanRoume/SentimentAnalysis/blob/main/SentimentAnalysis.ipynb\" target=\"_parent\"><img src=\"https://colab.research.google.com/assets/colab-badge.svg\" alt=\"Open In Colab\"/></a>"
      ]
    },
    {
      "cell_type": "code",
      "source": [
        "!pip install -U torchtext==0.15.2"
      ],
      "metadata": {
        "id": "xwtj1TO7mawA"
      },
      "execution_count": null,
      "outputs": []
    },
    {
      "cell_type": "markdown",
      "source": [
        "# **1st DataSet (Tweets)**"
      ],
      "metadata": {
        "id": "jxZ_dLO_kFzd"
      }
    },
    {
      "cell_type": "markdown",
      "source": [
        "## Download Dataset"
      ],
      "metadata": {
        "id": "WajVUoJ2kNZO"
      }
    },
    {
      "cell_type": "code",
      "execution_count": null,
      "metadata": {
        "colab": {
          "base_uri": "https://localhost:8080/"
        },
        "id": "OO5wgPDEg4WU",
        "outputId": "366e320d-8b9f-4580-8de5-4dd3767ee451"
      },
      "outputs": [
        {
          "output_type": "stream",
          "name": "stdout",
          "text": [
            "Path to dataset files: /root/.cache/kagglehub/datasets/jp797498e/twitter-entity-sentiment-analysis/versions/2\n"
          ]
        }
      ],
      "source": [
        "import kagglehub\n",
        "\n",
        "path = kagglehub.dataset_download(\"jp797498e/twitter-entity-sentiment-analysis\")\n",
        "\n",
        "print(\"Path to dataset files:\", path)\n",
        "\n"
      ]
    },
    {
      "cell_type": "code",
      "source": [
        "!ls /root/.cache/kagglehub/datasets/jp797498e/twitter-entity-sentiment-analysis/versions/2"
      ],
      "metadata": {
        "colab": {
          "base_uri": "https://localhost:8080/"
        },
        "id": "pKxkboqphCoY",
        "outputId": "1404a5ae-ee13-4e13-9aee-3c43e04e7d29"
      },
      "execution_count": null,
      "outputs": [
        {
          "output_type": "stream",
          "name": "stdout",
          "text": [
            "twitter_training.csv  twitter_validation.csv\n"
          ]
        }
      ]
    },
    {
      "cell_type": "markdown",
      "source": [
        "## Preprocess Data"
      ],
      "metadata": {
        "id": "XJgtoZaNkRnD"
      }
    },
    {
      "cell_type": "code",
      "source": [
        "import pandas as pd\n",
        "import re\n",
        "columns = [\"id\",\"entity\",\"sentiment\",\"tweet\"]\n",
        "df_train = pd.read_csv(\"/root/.cache/kagglehub/datasets/jp797498e/twitter-entity-sentiment-analysis/versions/2/twitter_training.csv\", header=None,names=columns)"
      ],
      "metadata": {
        "id": "ZtErC_ABhx0w"
      },
      "execution_count": null,
      "outputs": []
    },
    {
      "cell_type": "code",
      "source": [
        "df_train['sentiment'] = df_train['sentiment'].replace(\"Irrelevant\", \"Neutral\")\n",
        "df_train = df_train.dropna(subset=['tweet'])\n",
        "df_train = df_train.drop(columns=['id'])\n",
        "\n",
        "def clean_text(text):\n",
        "  text = text.lower()\n",
        "  text = re.sub(r\"http\\S+|www\\S+\", \"\", text)\n",
        "  text = re.sub(r\"@\\w+\", \"\", text)\n",
        "  text = re.sub(r\"[^a-zA-Z\\s]\", \"\", text)\n",
        "  text = re.sub(r\"\\s+\", \" \", text).strip()\n",
        "  text = re.sub(r\"[^\\w\\s]\", \"\", text)\n",
        "  return text\n",
        "\n",
        "df_train['tweet'] = df_train['tweet'].apply(clean_text)"
      ],
      "metadata": {
        "id": "zHF65lrxiCTC"
      },
      "execution_count": null,
      "outputs": []
    },
    {
      "cell_type": "markdown",
      "source": [
        "## Tokenize and Numerize Tweets"
      ],
      "metadata": {
        "id": "rJBJPPg2kYZV"
      }
    },
    {
      "cell_type": "code",
      "source": [
        "import torch\n",
        "from torchtext.vocab import build_vocab_from_iterator\n",
        "from torchtext.data.utils import get_tokenizer\n",
        "from torch.nn.utils.rnn import pad_sequence\n",
        "\n",
        "\n",
        "tokenizer = get_tokenizer(\"basic_english\")\n",
        "\n",
        "\n",
        "def yield_tokens(data):\n",
        "  for text in data:\n",
        "    yield tokenizer(text)\n",
        "\n",
        "vocab = build_vocab_from_iterator(yield_tokens(df_train['tweet']), specials=[\"<unk>\", \"<pad>\"])\n",
        "vocab.set_default_index(vocab[\"<unk>\"])\n",
        "\n",
        "def numericalize_text(text):\n",
        "  return vocab(tokenizer(text))\n",
        "\n",
        "df_train['tweet_numerical'] = df_train['tweet'].apply(numericalize_text)\n",
        "\n",
        "print(df_train[['tweet', 'tweet_numerical']].head())\n",
        "print(f\"Vocabulary size: {len(vocab)}\")\n",
        "\n",
        "\n",
        "def pad_tweets(tweets, max_length=50):\n",
        "    return pad_sequence([torch.tensor(tweet[:max_length]) for tweet in tweets],\n",
        "                        batch_first=True, padding_value=vocab[\"<pad>\"])\n",
        "\n",
        "train_padded = pad_tweets(df_train['tweet_numerical'].tolist())\n",
        "print(f\"Padded tweet shape: {train_padded.shape}\")\n"
      ],
      "metadata": {
        "colab": {
          "base_uri": "https://localhost:8080/"
        },
        "id": "jSKzi8T3koQs",
        "outputId": "a8b8ecbc-2650-4ccc-9991-c6f63aebac9c"
      },
      "execution_count": null,
      "outputs": [
        {
          "output_type": "stream",
          "name": "stdout",
          "text": [
            "                                               tweet  \\\n",
            "0  im getting on borderlands and i will murder yo...   \n",
            "1  i am coming to the borders and i will kill you...   \n",
            "2  im getting on borderlands and i will kill you all   \n",
            "3  im coming on borderlands and i will murder you...   \n",
            "4  im getting on borderlands and i will murder yo...   \n",
            "\n",
            "                                   tweet_numerical  \n",
            "0       [31, 157, 14, 138, 5, 3, 50, 1640, 13, 27]  \n",
            "1  [3, 99, 368, 4, 2, 6272, 5, 3, 50, 400, 13, 27]  \n",
            "2        [31, 157, 14, 138, 5, 3, 50, 400, 13, 27]  \n",
            "3       [31, 368, 14, 138, 5, 3, 50, 1640, 13, 27]  \n",
            "4   [31, 157, 14, 138, 5, 3, 50, 1640, 13, 20, 27]  \n",
            "Vocabulary size: 37369\n",
            "Padded tweet shape: torch.Size([73996, 50])\n"
          ]
        }
      ]
    },
    {
      "cell_type": "markdown",
      "source": [
        "## Create Datasets and DataLoaders for Train, Test, Validation"
      ],
      "metadata": {
        "id": "fxhja-9Ckcyc"
      }
    },
    {
      "cell_type": "code",
      "source": [
        "from torch.utils.data import Dataset, DataLoader, random_split\n",
        "\n",
        "class SentimentDataset(Dataset):\n",
        "  def __init__(self,tweets,labels):\n",
        "    self.tweets = tweets\n",
        "    self.labels = labels\n",
        "  def __len__(self):\n",
        "    return len(self.tweets)\n",
        "  def __getitem__(self,index):\n",
        "    return self.tweets[index], self.labels[index]\n",
        "\n",
        "label_mapping = {\"Positive\": 0, \"Neutral\": 1, \"Negative\": 2}\n",
        "train_labels = df_train['sentiment'].map(label_mapping).tolist()\n",
        "\n",
        "dataset = SentimentDataset(train_padded, train_labels)\n",
        "\n",
        "train_size = int(len(dataset) * 0.8)\n",
        "val_size = int(len(dataset) * 0.1)\n",
        "test_size = len(dataset) - train_size - val_size\n",
        "\n",
        "\n",
        "train_dataset, val_dataset, test_dataset = random_split(dataset, [train_size, val_size, test_size])\n",
        "\n",
        "\n",
        "batch_size = 32\n",
        "\n",
        "train_loader = DataLoader(train_dataset, batch_size=batch_size, shuffle=True)\n",
        "val_loader = DataLoader(val_dataset, batch_size=batch_size, shuffle=False)\n",
        "test_loader = DataLoader(test_dataset, batch_size=batch_size, shuffle=False)"
      ],
      "metadata": {
        "id": "8NwMA-Y0tDu7"
      },
      "execution_count": null,
      "outputs": []
    },
    {
      "cell_type": "markdown",
      "source": [
        "## Create LSTM Model"
      ],
      "metadata": {
        "id": "xUYhA6kNkj-f"
      }
    },
    {
      "cell_type": "code",
      "source": [
        "import torch.nn as nn\n",
        "\n",
        "class SentimentLSTM(nn.Module):\n",
        "  def __init__(self, vocab_size, embed_dim, hidden_dim, output_dim, num_layers=1):\n",
        "    super(SentimentLSTM,self).__init__()\n",
        "    self.embedding = nn.Embedding(vocab_size, embed_dim)\n",
        "    self.lstm = nn.LSTM(embed_dim, hidden_dim, num_layers, batch_first=True)\n",
        "    self.linear = nn.Linear(hidden_dim, output_dim)\n",
        "    self.dropout = nn.Dropout(0.5)\n",
        "\n",
        "  def forward(self,x):\n",
        "    x = self.embedding(x)\n",
        "    x,_ = self.lstm(x)\n",
        "    x = self.dropout(x[:, -1, :])\n",
        "    x = self.linear(x)\n",
        "    return x"
      ],
      "metadata": {
        "id": "fzlvbSnPuBdl"
      },
      "execution_count": null,
      "outputs": []
    },
    {
      "cell_type": "markdown",
      "source": [
        "## Initialize Model, Loss function, otimizer"
      ],
      "metadata": {
        "id": "Ax0j5Tugkr-l"
      }
    },
    {
      "cell_type": "code",
      "source": [
        "vocab_size = len(vocab)\n",
        "embed_dim = 100\n",
        "hidden_dim = 128\n",
        "output_dim = 3\n",
        "device = \"cuda\" if torch.cuda.is_available() else \"cpu\"\n",
        "\n",
        "\n",
        "model = SentimentLSTM(vocab_size,embed_dim,hidden_dim,output_dim).to(device)\n",
        "\n",
        "criterion = nn.CrossEntropyLoss()\n",
        "optimizer = torch.optim.Adam(model.parameters(), lr = 0.001)\n"
      ],
      "metadata": {
        "id": "P2p59FKQwsDB"
      },
      "execution_count": null,
      "outputs": []
    },
    {
      "cell_type": "markdown",
      "source": [
        "## Train and Evaluate"
      ],
      "metadata": {
        "id": "XH3h9x2JkzCW"
      }
    },
    {
      "cell_type": "code",
      "source": [
        "import numpy as np\n",
        "def evaluate_model(model, loader, dataset):\n",
        "  model.eval()\n",
        "  correct, total = 0, 0\n",
        "  totalLoss = 0\n",
        "  with torch.no_grad():\n",
        "    for tweets, labels in loader:\n",
        "      tweets = tweets.to(device)\n",
        "      labels = labels.to(device)\n",
        "      outputs = model(tweets)\n",
        "      loss = criterion(outputs,labels)\n",
        "      totalLoss += loss.item()\n",
        "\n",
        "      _, predicted = torch.max(outputs,1)\n",
        "      correct += (predicted == labels).sum().item()\n",
        "      total += labels.size(0)\n",
        "    totalLoss = totalLoss/len(dataset)\n",
        "\n",
        "    accuracy = correct / total\n",
        "    print(f\"Accuracy: {100 * accuracy:.2f}% , Loss: {totalLoss:.4f}\")\n",
        "    return totalLoss, accuracy\n",
        "\n",
        "\n",
        "def train_model(model, train_loader, criterion, optimizer, epochs = 5):\n",
        "  validation_stop_threshold = 0.5\n",
        "  validation_stop_counter = 0\n",
        "  for epoch in range(epochs):\n",
        "    model.train()\n",
        "    total_loss = 0\n",
        "    for i, (tweet, label) in enumerate(train_loader):\n",
        "      tweet = tweet.to(device)\n",
        "      label = label.to(device)\n",
        "      optimizer.zero_grad()\n",
        "      outputs = model(tweet)\n",
        "\n",
        "      loss = criterion(outputs, label)\n",
        "      loss.backward()\n",
        "      optimizer.step()\n",
        "\n",
        "      total_loss += loss.item()\n",
        "    total_loss = total_loss/len(train_loader)\n",
        "    print(f\"Epoch {epoch+1}/{epochs}, Loss: {total_loss:.4f}\")\n",
        "    val_loss, _ = evaluate_model(model,val_loader, val_dataset)\n",
        "    if np.abs(val_loss - total_loss) > validation_stop_threshold:\n",
        "      validation_stop_counter += 1\n",
        "    else:\n",
        "      validation_stop_counter = 0\n",
        "\n",
        "    if validation_stop_counter >= 5:\n",
        "      print(\"Early Stopping Triggered.\")\n",
        "      break\n",
        "\n",
        "\n",
        "\n",
        "\n",
        "\n",
        "train_model(model, train_loader, criterion, optimizer, epochs=25)\n",
        "evaluate_model(model,test_loader, test_dataset)\n",
        "torch.cuda.empty_cache()"
      ],
      "metadata": {
        "colab": {
          "base_uri": "https://localhost:8080/"
        },
        "id": "hxnIYsz6xTZ1",
        "outputId": "2fd56b1b-db38-410f-f3f2-8fc0485c99a4"
      },
      "execution_count": null,
      "outputs": [
        {
          "output_type": "stream",
          "name": "stdout",
          "text": [
            "Epoch 1/25, Loss: 0.0336\n",
            "Accuracy: 52.07% , Loss: 0.0314\n",
            "Epoch 2/25, Loss: 0.0276\n",
            "Accuracy: 66.40% , Loss: 0.0239\n",
            "Epoch 3/25, Loss: 0.0201\n",
            "Accuracy: 73.56% , Loss: 0.0203\n",
            "Epoch 4/25, Loss: 0.0140\n",
            "Accuracy: 79.04% , Loss: 0.0176\n",
            "Epoch 5/25, Loss: 0.0099\n",
            "Accuracy: 82.08% , Loss: 0.0158\n",
            "Epoch 6/25, Loss: 0.0072\n",
            "Accuracy: 83.07% , Loss: 0.0163\n",
            "Epoch 7/25, Loss: 0.0054\n",
            "Accuracy: 84.28% , Loss: 0.0164\n",
            "Epoch 8/25, Loss: 0.0044\n",
            "Accuracy: 84.19% , Loss: 0.0171\n",
            "Epoch 9/25, Loss: 0.0037\n",
            "Accuracy: 84.96% , Loss: 0.0166\n",
            "Epoch 10/25, Loss: 0.0032\n",
            "Accuracy: 84.97% , Loss: 0.0182\n",
            "Epoch 11/25, Loss: 0.0028\n",
            "Accuracy: 85.53% , Loss: 0.0189\n",
            "Epoch 12/25, Loss: 0.0028\n",
            "Accuracy: 85.77% , Loss: 0.0188\n",
            "Epoch 13/25, Loss: 0.0024\n",
            "Accuracy: 85.74% , Loss: 0.0184\n",
            "Epoch 14/25, Loss: 0.0023\n",
            "Accuracy: 86.11% , Loss: 0.0203\n",
            "Epoch 15/25, Loss: 0.0022\n",
            "Accuracy: 85.57% , Loss: 0.0205\n",
            "Epoch 16/25, Loss: 0.0022\n",
            "Accuracy: 86.32% , Loss: 0.0204\n",
            "Epoch 17/25, Loss: 0.0020\n",
            "Accuracy: 86.46% , Loss: 0.0196\n",
            "Epoch 18/25, Loss: 0.0020\n",
            "Accuracy: 86.69% , Loss: 0.0204\n",
            "Epoch 19/25, Loss: 0.0018\n",
            "Accuracy: 86.71% , Loss: 0.0205\n",
            "Epoch 20/25, Loss: 0.0018\n",
            "Accuracy: 86.36% , Loss: 0.0213\n",
            "Epoch 21/25, Loss: 0.0019\n",
            "Accuracy: 87.24% , Loss: 0.0200\n",
            "Epoch 22/25, Loss: 0.0017\n",
            "Accuracy: 86.88% , Loss: 0.0205\n",
            "Epoch 23/25, Loss: 0.0017\n",
            "Accuracy: 86.77% , Loss: 0.0218\n",
            "Epoch 24/25, Loss: 0.0017\n",
            "Accuracy: 86.97% , Loss: 0.0208\n",
            "Epoch 25/25, Loss: 0.0016\n",
            "Accuracy: 86.44% , Loss: 0.0196\n",
            "Accuracy: 87.43% , Loss: 0.0176\n"
          ]
        }
      ]
    },
    {
      "cell_type": "markdown",
      "source": [
        "# **2nd Dataset (Mental Health)**"
      ],
      "metadata": {
        "id": "XO0j69Hnk4uj"
      }
    },
    {
      "cell_type": "code",
      "source": [
        "import kagglehub\n",
        "\n",
        "\n",
        "path = kagglehub.dataset_download(\"suchintikasarkar/sentiment-analysis-for-mental-health\")\n",
        "\n",
        "print(\"Path to dataset files:\", path)"
      ],
      "metadata": {
        "colab": {
          "base_uri": "https://localhost:8080/"
        },
        "id": "wnhWs23kpb1g",
        "outputId": "6e1a2e0c-d334-4cc3-91ab-2544224b9fd6"
      },
      "execution_count": null,
      "outputs": [
        {
          "output_type": "stream",
          "name": "stdout",
          "text": [
            "Downloading from https://www.kaggle.com/api/v1/datasets/download/suchintikasarkar/sentiment-analysis-for-mental-health?dataset_version_number=1...\n"
          ]
        },
        {
          "output_type": "stream",
          "name": "stderr",
          "text": [
            "100%|██████████| 11.1M/11.1M [00:00<00:00, 93.7MB/s]"
          ]
        },
        {
          "output_type": "stream",
          "name": "stdout",
          "text": [
            "Extracting files...\n"
          ]
        },
        {
          "output_type": "stream",
          "name": "stderr",
          "text": [
            "\n"
          ]
        },
        {
          "output_type": "stream",
          "name": "stdout",
          "text": [
            "Path to dataset files: /root/.cache/kagglehub/datasets/suchintikasarkar/sentiment-analysis-for-mental-health/versions/1\n"
          ]
        }
      ]
    },
    {
      "cell_type": "code",
      "source": [
        "!ls /root/.cache/kagglehub/datasets/suchintikasarkar/sentiment-analysis-for-mental-health/versions/1"
      ],
      "metadata": {
        "colab": {
          "base_uri": "https://localhost:8080/"
        },
        "id": "pCq5_S7Spcy-",
        "outputId": "5a703665-98ee-494a-8778-0d19d567430a"
      },
      "execution_count": null,
      "outputs": [
        {
          "output_type": "stream",
          "name": "stdout",
          "text": [
            "'Combined Data.csv'\n"
          ]
        }
      ]
    },
    {
      "cell_type": "markdown",
      "source": [
        "## Preprocess Data"
      ],
      "metadata": {
        "id": "84TSx5g1lDI1"
      }
    },
    {
      "cell_type": "code",
      "source": [
        "import pandas as pd\n",
        "\n",
        "data = pd.read_csv(\"/root/.cache/kagglehub/datasets/suchintikasarkar/sentiment-analysis-for-mental-health/versions/1/Combined Data.csv\")\n",
        "data = data.drop(columns=['Unnamed: 0'])\n",
        "data = data.dropna(subset=\"statement\")"
      ],
      "metadata": {
        "id": "SYka-Oa_qWLy"
      },
      "execution_count": null,
      "outputs": []
    },
    {
      "cell_type": "code",
      "source": [
        "data['status'].value_counts()"
      ],
      "metadata": {
        "colab": {
          "base_uri": "https://localhost:8080/",
          "height": 335
        },
        "id": "0CNGODd-rAhu",
        "outputId": "e5035842-6e0a-49d9-cd55-02b907409b2c"
      },
      "execution_count": null,
      "outputs": [
        {
          "output_type": "execute_result",
          "data": {
            "text/plain": [
              "status\n",
              "Normal                  16343\n",
              "Depression              15404\n",
              "Suicidal                10652\n",
              "Anxiety                  3841\n",
              "Bipolar                  2777\n",
              "Stress                   2587\n",
              "Personality disorder     1077\n",
              "Name: count, dtype: int64"
            ],
            "text/html": [
              "<div>\n",
              "<style scoped>\n",
              "    .dataframe tbody tr th:only-of-type {\n",
              "        vertical-align: middle;\n",
              "    }\n",
              "\n",
              "    .dataframe tbody tr th {\n",
              "        vertical-align: top;\n",
              "    }\n",
              "\n",
              "    .dataframe thead th {\n",
              "        text-align: right;\n",
              "    }\n",
              "</style>\n",
              "<table border=\"1\" class=\"dataframe\">\n",
              "  <thead>\n",
              "    <tr style=\"text-align: right;\">\n",
              "      <th></th>\n",
              "      <th>count</th>\n",
              "    </tr>\n",
              "    <tr>\n",
              "      <th>status</th>\n",
              "      <th></th>\n",
              "    </tr>\n",
              "  </thead>\n",
              "  <tbody>\n",
              "    <tr>\n",
              "      <th>Normal</th>\n",
              "      <td>16343</td>\n",
              "    </tr>\n",
              "    <tr>\n",
              "      <th>Depression</th>\n",
              "      <td>15404</td>\n",
              "    </tr>\n",
              "    <tr>\n",
              "      <th>Suicidal</th>\n",
              "      <td>10652</td>\n",
              "    </tr>\n",
              "    <tr>\n",
              "      <th>Anxiety</th>\n",
              "      <td>3841</td>\n",
              "    </tr>\n",
              "    <tr>\n",
              "      <th>Bipolar</th>\n",
              "      <td>2777</td>\n",
              "    </tr>\n",
              "    <tr>\n",
              "      <th>Stress</th>\n",
              "      <td>2587</td>\n",
              "    </tr>\n",
              "    <tr>\n",
              "      <th>Personality disorder</th>\n",
              "      <td>1077</td>\n",
              "    </tr>\n",
              "  </tbody>\n",
              "</table>\n",
              "</div><br><label><b>dtype:</b> int64</label>"
            ]
          },
          "metadata": {},
          "execution_count": 4
        }
      ]
    },
    {
      "cell_type": "code",
      "source": [
        "import re\n",
        "import nltk\n",
        "from nltk.corpus import stopwords\n",
        "nltk.download('stopwords')\n",
        "\n",
        "def clean_text(text):\n",
        "    text = text.lower()\n",
        "    text = re.sub(r\"http\\S+|www\\S+|https\\S+\", '', text, flags=re.MULTILINE)  #Remove URLs\n",
        "    text = re.sub(r'\\W', ' ', text)  #Remove special characters\n",
        "    text = re.sub(r'\\s+', ' ', text).strip()  #Remove extra spaces\n",
        "    stop_words = set(stopwords.words('english'))\n",
        "    text = ' '.join([word for word in text.split() if word not in stop_words])  #Remove stopwords\n",
        "    return text\n",
        "\n",
        "data['statement'] = data['statement'].apply(clean_text)"
      ],
      "metadata": {
        "colab": {
          "base_uri": "https://localhost:8080/"
        },
        "id": "sJHy2CvhtTaK",
        "outputId": "f19a2f2d-c3fc-4a8f-aafb-593632da0874"
      },
      "execution_count": null,
      "outputs": [
        {
          "output_type": "stream",
          "name": "stderr",
          "text": [
            "[nltk_data] Downloading package stopwords to /root/nltk_data...\n",
            "[nltk_data]   Package stopwords is already up-to-date!\n"
          ]
        }
      ]
    },
    {
      "cell_type": "markdown",
      "source": [
        "## Tokenize and Numerize Tweets"
      ],
      "metadata": {
        "id": "97dU3nVClKin"
      }
    },
    {
      "cell_type": "code",
      "source": [
        "import torch\n",
        "from torchtext.vocab import build_vocab_from_iterator\n",
        "from torchtext.data.utils import get_tokenizer\n",
        "from torch.nn.utils.rnn import pad_sequence\n",
        "device = \"cuda\" if torch.cuda.is_available() else \"cpu\"\n",
        "tokenizer = get_tokenizer('basic_english')\n",
        "\n",
        "def yield_tokens(data):\n",
        "  for text in data:\n",
        "    yield tokenizer(text)\n",
        "\n",
        "vocab = build_vocab_from_iterator(yield_tokens(data['statement']), specials=[\"<unk>\",\"<pad>\"] )\n",
        "vocab.set_default_index(vocab[\"<unk>\"])\n",
        "\n",
        "\n",
        "def make_text_into_numbers(text):\n",
        "  return vocab(tokenizer(text))\n",
        "\n",
        "data[\"numerized_statement\"] = data[\"statement\"].apply(make_text_into_numbers)\n",
        "\n",
        "def pad_statements(states, max_length=100):\n",
        "    return pad_sequence([torch.tensor(state[:max_length]) for state in states],\n",
        "                        batch_first=True, padding_value=vocab[\"<pad>\"])\n",
        "padded_statement = pad_statements(data[\"numerized_statement\"].tolist()).to(device)"
      ],
      "metadata": {
        "id": "uxPqDvgHt75q"
      },
      "execution_count": null,
      "outputs": []
    },
    {
      "cell_type": "markdown",
      "source": [
        "## Create Datasets and DataLoaders For Train, Test, Validation"
      ],
      "metadata": {
        "id": "L-auRocllOlF"
      }
    },
    {
      "cell_type": "code",
      "source": [
        "from torch.utils.data import DataLoader, Dataset, random_split\n",
        "\n",
        "\n",
        "class MentalDataset(Dataset):\n",
        "  def __init__(self,statements,classes):\n",
        "    self.statements = statements\n",
        "    self.classes = classes\n",
        "\n",
        "  def __getitem__(self,index):\n",
        "    return torch.tensor(self.statements[index]), torch.tensor(self.classes[index])\n",
        "  def __len__(self):\n",
        "    return len(self.statements)\n",
        "\n",
        "mapped_classes = {\"Normal\": 0, \"Depression\": 1, \"Suicidal\": 2, \"Anxiety\": 3, \"Stress\": 4, \"Bipolar\": 5, \"Personality disorder\": 6}\n",
        "\n",
        "classes = data['status'].map(mapped_classes).tolist()\n",
        "\n",
        "dataset = MentalDataset(padded_statement, classes)\n",
        "length = len(dataset)\n",
        "\n",
        "train_size = int(0.8 * length)\n",
        "test_size = int(0.1 * length)\n",
        "val_size = length - train_size - test_size\n",
        "\n",
        "train_dataset, test_dataset, val_dataset = random_split(dataset,[train_size, test_size, val_size])\n",
        "\n",
        "train_loader = DataLoader(train_dataset, batch_size = 32, shuffle=True)\n",
        "test_loader = DataLoader(test_dataset, batch_size = 32, shuffle=False)\n",
        "val_loader = DataLoader(test_dataset, batch_size = 32, shuffle=False)\n"
      ],
      "metadata": {
        "id": "2P-knuhHwVaK"
      },
      "execution_count": null,
      "outputs": []
    },
    {
      "cell_type": "markdown",
      "source": [
        "## Create BI-LSTM Model"
      ],
      "metadata": {
        "id": "0lYWq5enlX8t"
      }
    },
    {
      "cell_type": "code",
      "source": [
        "import torch.nn as nn\n",
        "class BiLSTM(nn.Module):\n",
        "    def __init__(self, vocab_size, embed_dim, hidden_dim, num_classes):\n",
        "        super(BiLSTM, self).__init__()\n",
        "        self.embedding = nn.Embedding(vocab_size, embed_dim)\n",
        "        self.bilstm = nn.LSTM(embed_dim, hidden_dim, batch_first=True, bidirectional=True)\n",
        "        self.layer_norm = nn.LayerNorm(hidden_dim * 2)\n",
        "        self.dropout = nn.Dropout(0.5)\n",
        "        self.fc = nn.Linear(hidden_dim * 2, num_classes)\n",
        "\n",
        "    def forward(self, x):\n",
        "        x = self.embedding(x)\n",
        "        x, _ = self.bilstm(x)\n",
        "        x = self.layer_norm(x[:, -1, :])\n",
        "        x = self.dropout(x)\n",
        "        return self.fc(x)"
      ],
      "metadata": {
        "id": "IDzpJ7TdzQPh"
      },
      "execution_count": null,
      "outputs": []
    },
    {
      "cell_type": "markdown",
      "source": [
        "## Initialize Functions"
      ],
      "metadata": {
        "id": "rqncrLtalcm3"
      }
    },
    {
      "cell_type": "code",
      "source": [
        "import numpy as np\n",
        "def validate(model,criterion,val_loader):\n",
        "  model.eval()\n",
        "  with torch.no_grad():\n",
        "    totalLoss = 0\n",
        "    correct = 0\n",
        "    total = 0\n",
        "    for statements, classes in val_loader:\n",
        "      statements = statements.to(device)\n",
        "      classes = classes.to(device)\n",
        "      outputs = model(statements)\n",
        "      loss = criterion(outputs,classes)\n",
        "      totalLoss += loss.item()\n",
        "\n",
        "      _,prediction = torch.max(outputs,1)\n",
        "      correct += (prediction == classes).sum().item()\n",
        "      total += classes.shape[0]\n",
        "    avg_loss = totalLoss/ len(val_loader)\n",
        "    acc = correct/total\n",
        "    return avg_loss, acc\n",
        "\n",
        "\n",
        "\n",
        "def train_model(model,optimizer,criterion,train_loader, epochs=5):\n",
        "  earlyStoppingThreshold = 0.5\n",
        "  earlyStoppingCounter = 0\n",
        "  for epoch in range(epochs):\n",
        "    model.train()\n",
        "    totalLoss = 0\n",
        "    total = 0\n",
        "    correct = 0\n",
        "    for statements, classes in train_loader:\n",
        "      optimizer.zero_grad()\n",
        "      statements = statements.to(device)\n",
        "      classes = classes.to(device)\n",
        "      outputs = model(statements)\n",
        "      loss = criterion(outputs,classes)\n",
        "      loss.backward()\n",
        "      optimizer.step()\n",
        "\n",
        "      totalLoss += loss.item()\n",
        "\n",
        "      _, predicted = torch.max(outputs,1)\n",
        "      correct += (predicted == classes).sum().item()\n",
        "      total += classes.shape[0]\n",
        "\n",
        "    avg_loss_train = totalLoss / len(train_loader)\n",
        "    train_acc = correct/total\n",
        "    avg_loss_val, val_acc = validate(model,criterion,val_loader)\n",
        "    print(f\"Epoch {epoch+1}/{epochs}, Training Loss: {avg_loss_train:.4f}, Training Accuracy: {train_acc:.4f}, Validation Loss: {avg_loss_val:.4f}, Validation Accuracy: {val_acc:.4f}\")\n",
        "\n",
        "    if np.abs(avg_loss_val - avg_loss_train) > earlyStoppingThreshold:\n",
        "      earlyStoppingCounter += 1\n",
        "    else:\n",
        "      earlyStoppingCounter = 0\n",
        "\n",
        "    if earlyStoppingCounter >= 5:\n",
        "      print(\"Early Stopping Triggered\")\n",
        "      break\n",
        "\n",
        "\n",
        "def evaluate_model(model,test_loader):\n",
        "  model.eval()\n",
        "  with torch.no_grad():\n",
        "    total = 0\n",
        "    correct = 0\n",
        "    for statements, classes in test_loader:\n",
        "      statements = statements.to(device)\n",
        "      classes = classes.to(device)\n",
        "\n",
        "      outputs = model(statements)\n",
        "\n",
        "      _,predictions = torch.max(outputs,1)\n",
        "      correct +=(predictions == classes).sum().item()\n",
        "      total += classes.shape[0]\n",
        "\n",
        "    acc = correct/total\n",
        "    print(f\"\\n\\nTest Accuracy: {acc:.4f}\")\n"
      ],
      "metadata": {
        "id": "sqoxW06P1GTA"
      },
      "execution_count": null,
      "outputs": []
    },
    {
      "cell_type": "markdown",
      "source": [
        "## Initialize Model, Loss function ,Optimizer and Train/Evaluate"
      ],
      "metadata": {
        "id": "l1gzJjcYliFR"
      }
    },
    {
      "cell_type": "code",
      "source": [
        "\n",
        "model = BiLSTM(len(vocab), 64, 64, 7).to(device)\n",
        "\n",
        "criterion = nn.CrossEntropyLoss()\n",
        "optimizer = torch.optim.Adam(model.parameters(), lr =0.001)\n",
        "\n",
        "train_model(model,optimizer,criterion,train_loader,25)\n",
        "evaluate_model(model,test_loader)"
      ],
      "metadata": {
        "colab": {
          "base_uri": "https://localhost:8080/"
        },
        "id": "wUGo4iuR5uaA",
        "outputId": "09664dec-f58a-47d0-aac2-563fcc47be17"
      },
      "execution_count": null,
      "outputs": [
        {
          "output_type": "stream",
          "name": "stderr",
          "text": [
            "<ipython-input-10-5a7060a05644>:10: UserWarning: To copy construct from a tensor, it is recommended to use sourceTensor.clone().detach() or sourceTensor.clone().detach().requires_grad_(True), rather than torch.tensor(sourceTensor).\n",
            "  return torch.tensor(self.statements[index]), torch.tensor(self.classes[index])\n"
          ]
        },
        {
          "output_type": "stream",
          "name": "stdout",
          "text": [
            "Epoch 1/25, Training Loss: 1.4170, Training Accuracy: 0.4685, Validation Loss: 1.2215, Validation Accuracy: 0.5499\n",
            "Epoch 2/25, Training Loss: 1.1163, Training Accuracy: 0.5686, Validation Loss: 0.9577, Validation Accuracy: 0.6323\n",
            "Epoch 3/25, Training Loss: 0.8992, Training Accuracy: 0.6485, Validation Loss: 0.8792, Validation Accuracy: 0.6688\n",
            "Epoch 4/25, Training Loss: 0.7853, Training Accuracy: 0.6975, Validation Loss: 0.8304, Validation Accuracy: 0.6887\n",
            "Epoch 5/25, Training Loss: 0.6749, Training Accuracy: 0.7453, Validation Loss: 0.7789, Validation Accuracy: 0.7065\n",
            "Epoch 6/25, Training Loss: 0.5940, Training Accuracy: 0.7769, Validation Loss: 0.8063, Validation Accuracy: 0.7151\n",
            "Epoch 7/25, Training Loss: 0.5203, Training Accuracy: 0.8074, Validation Loss: 0.8367, Validation Accuracy: 0.7174\n",
            "Epoch 8/25, Training Loss: 0.4594, Training Accuracy: 0.8335, Validation Loss: 0.8579, Validation Accuracy: 0.7117\n",
            "Epoch 9/25, Training Loss: 0.4017, Training Accuracy: 0.8582, Validation Loss: 0.9229, Validation Accuracy: 0.7101\n",
            "Epoch 10/25, Training Loss: 0.3537, Training Accuracy: 0.8762, Validation Loss: 0.9593, Validation Accuracy: 0.7181\n",
            "Epoch 11/25, Training Loss: 0.3123, Training Accuracy: 0.8920, Validation Loss: 0.9964, Validation Accuracy: 0.7128\n",
            "Epoch 12/25, Training Loss: 0.2780, Training Accuracy: 0.9070, Validation Loss: 1.0749, Validation Accuracy: 0.7118\n",
            "Epoch 13/25, Training Loss: 0.2446, Training Accuracy: 0.9215, Validation Loss: 1.1181, Validation Accuracy: 0.7079\n",
            "Early Stopping Triggered\n",
            "\n",
            "\n",
            "Test Accuracy: 0.7079\n"
          ]
        }
      ]
    },
    {
      "cell_type": "markdown",
      "source": [
        "## Test Trained Model with custom text"
      ],
      "metadata": {
        "id": "qZ0hO98ClqvQ"
      }
    },
    {
      "cell_type": "code",
      "source": [
        "def preprocess_text(text, vocab, tokenizer, max_length = 100):\n",
        "  text = clean_text(text)\n",
        "  tokens = tokenizer(text)\n",
        "  numericalized = vocab(tokens)\n",
        "  tensor_input = torch.tensor(numericalized).unsqueeze(0)\n",
        "  padded_input = torch.nn.functional.pad(tensor_input, (0, max_length - tensor_input.shape[1]), value=vocab[\"<pad>\"])\n",
        "  return padded_input.to(device)\n",
        "\n",
        "\n",
        "def predict_text(model, text, vocab, tokenizer):\n",
        "    model.eval()\n",
        "    with torch.no_grad():\n",
        "        processed_text = preprocess_text(text, vocab, tokenizer)\n",
        "        output = model(processed_text)\n",
        "        predicted_class = torch.argmax(output, dim=1).item()\n",
        "    return predicted_class\n",
        "\n",
        "class_names = {0: \"Normal\", 1: \"Depression\", 2: \"Suicidal\", 3: \"Anxiety\", 4: \"Stress\", 5: \"Bipolar\", 6: \"Personality disorder\"}\n",
        "\n",
        "texts = [\n",
        "    \"I am feeling very anxious and stressed about work.\",\n",
        "    \"I feel empty and numb. Nothing excites me anymore.\",\n",
        "    \"I am feeling great and excited about the future.\",\n",
        "    \"I don't see a reason to continue living, I just wanna die.\",\n",
        "    \"I act impulsively and regret it later.\"\n",
        "\n",
        "]\n",
        "\n",
        "\n",
        "for text in texts:\n",
        "  preddiction = predict_text(model,text,vocab,tokenizer)\n",
        "  result = class_names[preddiction]\n",
        "  print(f'{text}: {result}')\n",
        "\n",
        "\n",
        "\n"
      ],
      "metadata": {
        "colab": {
          "base_uri": "https://localhost:8080/"
        },
        "id": "GSuQqoXmV9a-",
        "outputId": "14a45199-97de-423c-d25d-62fa035a9f71"
      },
      "execution_count": null,
      "outputs": [
        {
          "output_type": "stream",
          "name": "stdout",
          "text": [
            "I am feeling very anxious and stressed about work.: Anxiety\n",
            "I feel empty and numb. Nothing excites me anymore.: Suicidal\n",
            "I am feeling great and excited about the future.: Normal\n",
            "I don't see a reason to continue living, I just wanna die.: Suicidal\n",
            "I act impulsively and regret it later.: Normal\n"
          ]
        }
      ]
    }
  ]
}